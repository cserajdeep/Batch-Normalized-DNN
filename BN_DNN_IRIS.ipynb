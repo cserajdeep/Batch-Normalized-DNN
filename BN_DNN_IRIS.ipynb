{
  "nbformat": 4,
  "nbformat_minor": 0,
  "metadata": {
    "colab": {
      "name": "BN_DNN_IRIS.ipynb",
      "provenance": [],
      "collapsed_sections": []
    },
    "kernelspec": {
      "name": "python3",
      "display_name": "Python 3"
    },
    "language_info": {
      "name": "python"
    },
    "accelerator": "GPU"
  },
  "cells": [
    {
      "cell_type": "code",
      "metadata": {
        "id": "RScaEZ2vPfen"
      },
      "source": [
        "import torch\n",
        "import numpy as np\n",
        "import matplotlib.pyplot as plt\n",
        "import torch.nn as nn\n",
        "import torch.nn.functional as F\n",
        "from torch.utils.data import Dataset, TensorDataset, DataLoader\n",
        "from torch.utils.data import random_split\n",
        "from sklearn.model_selection import train_test_split\n",
        "from sklearn.preprocessing import StandardScaler\n",
        "from  sklearn import  datasets\n",
        "%matplotlib inline"
      ],
      "execution_count": 79,
      "outputs": []
    },
    {
      "cell_type": "code",
      "metadata": {
        "id": "1KGJdA4QZtdL"
      },
      "source": [
        "class MyDataset(Dataset):\n",
        "    def __init__(self, data, targets):   #, transform=None\n",
        "        self.data = data\n",
        "        self.labels = torch.LongTensor(targets)\n",
        "        \n",
        "    def __getitem__(self, index):\n",
        "        x = self.data[index]\n",
        "        y = self.labels[index]\n",
        "        \n",
        "        x = torch.FloatTensor(x)\n",
        "        y = torch.from_numpy(np.array(y))\n",
        "        return x, y\n",
        "    \n",
        "    def __len__(self):\n",
        "        return len(self.data)"
      ],
      "execution_count": 80,
      "outputs": []
    },
    {
      "cell_type": "code",
      "metadata": {
        "id": "Yxg8j3xeRVSu"
      },
      "source": [
        "data = datasets.load_iris()\n",
        "\n",
        "# Scale data to have mean 0 and variance 1 \n",
        "# which is importance for convergence of the neural network\n",
        "scaler = StandardScaler()\n",
        "x = scaler.fit_transform(x)\n",
        "x = data.data\n",
        "y = data.target\n",
        "\n",
        "X = data['data']\n",
        "Y = data['target']\n",
        "names = data['target_names']\n",
        "feature_names = data['feature_names']\n",
        "\n",
        "x_train,x_test,y_train,y_test = train_test_split(x, y, test_size= 0.3, random_state= True)\n",
        "\n",
        "train_dataset = MyDataset(x_train, y_train)\n",
        "train_dataloader = DataLoader(train_dataset, batch_size=5)\n",
        "\n",
        "test_dataset = MyDataset(x_test, y_test)\n",
        "test_dataloader = DataLoader(test_dataset, batch_size=5)"
      ],
      "execution_count": 81,
      "outputs": []
    },
    {
      "cell_type": "code",
      "metadata": {
        "id": "WtVp2CTuuLRw"
      },
      "source": [
        "plt.style.use('ggplot')\n",
        "\n",
        "fig, (ax1, ax2) = plt.subplots(1, 2, figsize=(16, 6))\n",
        "for target, target_name in enumerate(names):\n",
        "    X_plot = X[Y == target]\n",
        "    ax1.plot(X_plot[:, 0], X_plot[:, 1], \n",
        "             linestyle='none', \n",
        "             marker='o', \n",
        "             label=target_name)\n",
        "ax1.set_xlabel(feature_names[0])\n",
        "ax1.set_ylabel(feature_names[1])\n",
        "ax1.axis('equal')\n",
        "ax1.legend();\n",
        "\n",
        "for target, target_name in enumerate(names):\n",
        "    X_plot = X[Y == target]\n",
        "    ax2.plot(X_plot[:, 2], X_plot[:, 3], \n",
        "             linestyle='none', \n",
        "             marker='o', \n",
        "             label=target_name)\n",
        "ax2.set_xlabel(feature_names[2])\n",
        "ax2.set_ylabel(feature_names[3])\n",
        "ax2.axis('equal')\n",
        "ax2.legend();"
      ],
      "execution_count": null,
      "outputs": []
    },
    {
      "cell_type": "code",
      "metadata": {
        "id": "1fL1vuP2QI2S"
      },
      "source": [
        "def accuracy(outputs, labels):\n",
        "    _, preds = torch.max(outputs, dim=1)\n",
        "    return torch.tensor(torch.sum(preds == labels).item() / len(preds))"
      ],
      "execution_count": 82,
      "outputs": []
    },
    {
      "cell_type": "code",
      "metadata": {
        "id": "F2VgsgB0QI5N"
      },
      "source": [
        "class BN_DNN(nn.Module):\n",
        "    \"\"\"Feedfoward neural network with 4 hidden layer\"\"\"\n",
        "    def __init__(self, in_size, out_size):\n",
        "        super().__init__()\n",
        "        # hidden layer 1\n",
        "        self.linear1 = nn.Linear(in_size, 256)\n",
        "        nn.BatchNorm1d(256)    #applying batch norm\n",
        "        # hidden layer 2\n",
        "        self.linear2 = nn.Linear(256, 512)\n",
        "        nn.BatchNorm1d(512)    #applying batch norm\n",
        "        # hidden layer 3\n",
        "        self.linear3 = nn.Linear(512, 128)\n",
        "        nn.BatchNorm1d(128)    #applying batch norm\n",
        "        # hidden layer 4\n",
        "        self.linear4 = nn.Linear(128, 32)\n",
        "        nn.BatchNorm1d(32)    #applying batch norm\n",
        "        # output layer\n",
        "        self.linear5 = nn.Linear(32, out_size)\n",
        "        \n",
        "    def forward(self, xb):\n",
        "        # Flatten the image tensors\n",
        "        out = xb.view(xb.size(0), -1)\n",
        "        # Get intermediate outputs using hidden layer 1\n",
        "        out = self.linear1(out)\n",
        "        # Apply activation function\n",
        "        out = F.relu(out)\n",
        "        # Get intermediate outputs using hidden layer 2\n",
        "        out = self.linear2(out)\n",
        "        # Apply activation function\n",
        "        out = F.relu(out)\n",
        "        # Get intermediate outputs using hidden layer 3\n",
        "        out = self.linear3(out)\n",
        "        # Apply activation function\n",
        "        out = F.relu(out)\n",
        "        # Get intermediate outputs using hidden layer 4\n",
        "        out = self.linear4(out)\n",
        "        # Apply activation function\n",
        "        out = F.relu(out)\n",
        "        # Get predictions using output layer\n",
        "        out = self.linear5(out)\n",
        "        return out\n",
        "    \n",
        "    def training_step(self, batch):\n",
        "        data, labels = batch \n",
        "        out = self(data)                  # Generate predictions\n",
        "        loss = F.cross_entropy(out, labels) # Calculate loss\n",
        "        return loss\n",
        "    \n",
        "    def validation_step(self, batch):\n",
        "        data, labels = batch \n",
        "        out = self(data)                    # Generate predictions\n",
        "        loss = F.cross_entropy(out, labels)   # Calculate loss\n",
        "        acc = accuracy(out, labels)           # Calculate accuracy\n",
        "        return {'val_loss': loss, 'val_acc': acc}\n",
        "        \n",
        "    def validation_epoch_end(self, outputs):\n",
        "        batch_losses = [x['val_loss'] for x in outputs]\n",
        "        epoch_loss = torch.stack(batch_losses).mean()   # Combine losses\n",
        "        batch_accs = [x['val_acc'] for x in outputs]\n",
        "        epoch_acc = torch.stack(batch_accs).mean()      # Combine accuracies\n",
        "        return {'val_loss': epoch_loss.item(), 'val_acc': epoch_acc.item()}\n",
        "    \n",
        "    def epoch_end(self, epoch, result):\n",
        "        print(\"Epoch [{}], train_loss: {:.4f}, val_loss: {:.4f}, val_acc: {:.4f}\".format(\n",
        "            epoch, result['train_loss'], result['val_loss'], result['val_acc']))"
      ],
      "execution_count": 83,
      "outputs": []
    },
    {
      "cell_type": "code",
      "metadata": {
        "colab": {
          "base_uri": "https://localhost:8080/"
        },
        "id": "rjC1r69KQI7m",
        "outputId": "c3094bdf-50a3-40a0-830e-29b196865730"
      },
      "source": [
        "def get_default_device():\n",
        "    \"\"\"Pick GPU if available, else CPU\"\"\"\n",
        "    if torch.cuda.is_available():\n",
        "        return torch.device('cuda')\n",
        "    else:\n",
        "        return torch.device('cpu')\n",
        "\n",
        "def to_device(data, device):\n",
        "    \"\"\"Move tensor(s) to chosen device\"\"\"\n",
        "    if isinstance(data, (list,tuple)):\n",
        "        return [to_device(x, device) for x in data]\n",
        "    return data.to(device, non_blocking=True)\n",
        "\n",
        "class DeviceDataLoader():\n",
        "    \"\"\"Wrap a dataloader to move data to a device\"\"\"\n",
        "    def __init__(self, dl, device):\n",
        "        self.dl = dl\n",
        "        self.device = device\n",
        "        \n",
        "    def __iter__(self):\n",
        "        \"\"\"Yield a batch of data after moving it to device\"\"\"\n",
        "        for b in self.dl: \n",
        "            yield to_device(b, self.device)\n",
        "\n",
        "    def __len__(self):\n",
        "        \"\"\"Number of batches\"\"\"\n",
        "        return len(self.dl)\n",
        "\n",
        "device = get_default_device()\n",
        "device"
      ],
      "execution_count": 84,
      "outputs": [
        {
          "output_type": "execute_result",
          "data": {
            "text/plain": [
              "device(type='cuda')"
            ]
          },
          "metadata": {
            "tags": []
          },
          "execution_count": 84
        }
      ]
    },
    {
      "cell_type": "code",
      "metadata": {
        "id": "Wr-fJHtsQJBQ"
      },
      "source": [
        "train_dl = DeviceDataLoader(train_dataloader, device)\n",
        "val_dl = DeviceDataLoader(test_dataloader, device)"
      ],
      "execution_count": 85,
      "outputs": []
    },
    {
      "cell_type": "code",
      "metadata": {
        "id": "prIDNKoKQgFi"
      },
      "source": [
        "@torch.no_grad()\n",
        "def evaluate(model, val_loader):\n",
        "    outputs = [model.validation_step(batch) for batch in val_loader]\n",
        "    return model.validation_epoch_end(outputs)\n",
        "\n",
        "def fit(epochs, lr, model, train_loader, val_loader, opt_func=torch.optim.SGD):\n",
        "    history = []\n",
        "    optimizer = opt_func(model.parameters(), lr)\n",
        "    for epoch in range(epochs):\n",
        "        # Training Phase \n",
        "        # model.train()\n",
        "        train_losses = []\n",
        "        for batch in train_loader:\n",
        "            loss = model.training_step(batch)\n",
        "            train_losses.append(loss)\n",
        "            loss.backward()\n",
        "            optimizer.step()\n",
        "            optimizer.zero_grad()\n",
        "        # Validation phase\n",
        "        result = evaluate(model, val_loader)\n",
        "        result['train_loss'] = torch.stack(train_losses).mean().item()\n",
        "        model.epoch_end(epoch, result)\n",
        "        history.append(result)\n",
        "    return history"
      ],
      "execution_count": 86,
      "outputs": []
    },
    {
      "cell_type": "code",
      "metadata": {
        "id": "Mm532YXZQgOb"
      },
      "source": [
        "input_size = 4\n",
        "num_classes = 3\n",
        "num_epochs = 100\n",
        "opt_func = torch.optim.Adam\n",
        "lr = 0.001"
      ],
      "execution_count": 87,
      "outputs": []
    },
    {
      "cell_type": "code",
      "metadata": {
        "colab": {
          "base_uri": "https://localhost:8080/"
        },
        "id": "BGSTk5whQgTN",
        "outputId": "f34504f9-5ddb-4830-c0ab-43032c2b97cf"
      },
      "source": [
        "model = to_device(BN_DNN(input_size, out_size=num_classes), device)\n",
        "model"
      ],
      "execution_count": 88,
      "outputs": [
        {
          "output_type": "execute_result",
          "data": {
            "text/plain": [
              "BN_DNN(\n",
              "  (linear1): Linear(in_features=4, out_features=256, bias=True)\n",
              "  (linear2): Linear(in_features=256, out_features=512, bias=True)\n",
              "  (linear3): Linear(in_features=512, out_features=128, bias=True)\n",
              "  (linear4): Linear(in_features=128, out_features=32, bias=True)\n",
              "  (linear5): Linear(in_features=32, out_features=3, bias=True)\n",
              ")"
            ]
          },
          "metadata": {
            "tags": []
          },
          "execution_count": 88
        }
      ]
    },
    {
      "cell_type": "code",
      "metadata": {
        "colab": {
          "base_uri": "https://localhost:8080/"
        },
        "id": "2VJVHH4hQloO",
        "outputId": "5138ed9f-0f6a-45f1-bb8b-b36b6c3e3669"
      },
      "source": [
        "history = fit(num_epochs, lr, model, train_dl, val_dl, opt_func)"
      ],
      "execution_count": 89,
      "outputs": [
        {
          "output_type": "stream",
          "text": [
            "Epoch [0], train_loss: 0.8758, val_loss: 0.5578, val_acc: 0.7111\n",
            "Epoch [1], train_loss: 0.4380, val_loss: 0.3440, val_acc: 0.9333\n",
            "Epoch [2], train_loss: 0.2872, val_loss: 0.2251, val_acc: 0.9556\n",
            "Epoch [3], train_loss: 0.1976, val_loss: 0.1401, val_acc: 0.9556\n",
            "Epoch [4], train_loss: 0.1287, val_loss: 0.1152, val_acc: 0.9778\n",
            "Epoch [5], train_loss: 0.1094, val_loss: 0.0949, val_acc: 0.9778\n",
            "Epoch [6], train_loss: 0.1065, val_loss: 0.1059, val_acc: 0.9556\n",
            "Epoch [7], train_loss: 0.1008, val_loss: 0.0792, val_acc: 0.9778\n",
            "Epoch [8], train_loss: 0.1559, val_loss: 0.0804, val_acc: 0.9778\n",
            "Epoch [9], train_loss: 0.1724, val_loss: 0.0941, val_acc: 0.9778\n",
            "Epoch [10], train_loss: 0.1026, val_loss: 0.0668, val_acc: 0.9778\n",
            "Epoch [11], train_loss: 0.0937, val_loss: 0.0608, val_acc: 0.9778\n",
            "Epoch [12], train_loss: 0.1060, val_loss: 0.0583, val_acc: 0.9778\n",
            "Epoch [13], train_loss: 0.1505, val_loss: 0.0770, val_acc: 0.9778\n",
            "Epoch [14], train_loss: 0.2033, val_loss: 0.1275, val_acc: 0.9556\n",
            "Epoch [15], train_loss: 0.2192, val_loss: 0.1553, val_acc: 0.9556\n",
            "Epoch [16], train_loss: 0.1666, val_loss: 0.1175, val_acc: 0.9556\n",
            "Epoch [17], train_loss: 0.1286, val_loss: 0.0855, val_acc: 0.9556\n",
            "Epoch [18], train_loss: 0.1942, val_loss: 0.1078, val_acc: 0.9556\n",
            "Epoch [19], train_loss: 0.1639, val_loss: 0.1248, val_acc: 0.9333\n",
            "Epoch [20], train_loss: 0.0979, val_loss: 0.0521, val_acc: 1.0000\n",
            "Epoch [21], train_loss: 0.1113, val_loss: 0.0577, val_acc: 0.9778\n",
            "Epoch [22], train_loss: 0.1640, val_loss: 0.1136, val_acc: 0.9556\n",
            "Epoch [23], train_loss: 0.0928, val_loss: 0.0525, val_acc: 0.9778\n",
            "Epoch [24], train_loss: 0.1022, val_loss: 0.0497, val_acc: 1.0000\n",
            "Epoch [25], train_loss: 0.1623, val_loss: 0.2016, val_acc: 0.9111\n",
            "Epoch [26], train_loss: 0.1116, val_loss: 0.0513, val_acc: 1.0000\n",
            "Epoch [27], train_loss: 0.1521, val_loss: 0.0919, val_acc: 0.9778\n",
            "Epoch [28], train_loss: 0.1570, val_loss: 0.2142, val_acc: 0.8889\n",
            "Epoch [29], train_loss: 0.1244, val_loss: 0.0431, val_acc: 1.0000\n",
            "Epoch [30], train_loss: 0.2067, val_loss: 0.1062, val_acc: 0.9778\n",
            "Epoch [31], train_loss: 0.1743, val_loss: 0.2581, val_acc: 0.8667\n",
            "Epoch [32], train_loss: 0.1000, val_loss: 0.0469, val_acc: 1.0000\n",
            "Epoch [33], train_loss: 0.1243, val_loss: 0.0558, val_acc: 0.9778\n",
            "Epoch [34], train_loss: 0.1262, val_loss: 0.1072, val_acc: 0.9556\n",
            "Epoch [35], train_loss: 0.0794, val_loss: 0.0497, val_acc: 1.0000\n",
            "Epoch [36], train_loss: 0.1231, val_loss: 0.0559, val_acc: 0.9778\n",
            "Epoch [37], train_loss: 0.0999, val_loss: 0.0640, val_acc: 0.9778\n",
            "Epoch [38], train_loss: 0.0775, val_loss: 0.0393, val_acc: 1.0000\n",
            "Epoch [39], train_loss: 0.1046, val_loss: 0.0462, val_acc: 0.9778\n",
            "Epoch [40], train_loss: 0.1019, val_loss: 0.0626, val_acc: 0.9778\n",
            "Epoch [41], train_loss: 0.1397, val_loss: 0.0431, val_acc: 0.9778\n",
            "Epoch [42], train_loss: 0.1396, val_loss: 0.0943, val_acc: 0.9778\n",
            "Epoch [43], train_loss: 0.0871, val_loss: 0.0439, val_acc: 1.0000\n",
            "Epoch [44], train_loss: 0.1189, val_loss: 0.0411, val_acc: 0.9778\n",
            "Epoch [45], train_loss: 0.5814, val_loss: 0.2611, val_acc: 0.8667\n",
            "Epoch [46], train_loss: 0.1199, val_loss: 0.0628, val_acc: 0.9778\n",
            "Epoch [47], train_loss: 0.0889, val_loss: 0.0421, val_acc: 1.0000\n",
            "Epoch [48], train_loss: 0.0891, val_loss: 0.0369, val_acc: 1.0000\n",
            "Epoch [49], train_loss: 0.1291, val_loss: 0.0576, val_acc: 0.9778\n",
            "Epoch [50], train_loss: 0.1027, val_loss: 0.0637, val_acc: 0.9778\n",
            "Epoch [51], train_loss: 0.0847, val_loss: 0.0498, val_acc: 0.9778\n",
            "Epoch [52], train_loss: 0.0814, val_loss: 0.0353, val_acc: 1.0000\n",
            "Epoch [53], train_loss: 0.0811, val_loss: 0.0334, val_acc: 1.0000\n",
            "Epoch [54], train_loss: 0.1143, val_loss: 0.0357, val_acc: 1.0000\n",
            "Epoch [55], train_loss: 0.3056, val_loss: 0.2998, val_acc: 0.7778\n",
            "Epoch [56], train_loss: 0.1373, val_loss: 0.0874, val_acc: 0.9778\n",
            "Epoch [57], train_loss: 0.1275, val_loss: 0.1471, val_acc: 0.9111\n",
            "Epoch [58], train_loss: 0.0802, val_loss: 0.0569, val_acc: 0.9778\n",
            "Epoch [59], train_loss: 0.0914, val_loss: 0.0705, val_acc: 0.9556\n",
            "Epoch [60], train_loss: 0.0715, val_loss: 0.0433, val_acc: 0.9778\n",
            "Epoch [61], train_loss: 0.0859, val_loss: 0.0642, val_acc: 0.9556\n",
            "Epoch [62], train_loss: 0.0684, val_loss: 0.0382, val_acc: 1.0000\n",
            "Epoch [63], train_loss: 0.0804, val_loss: 0.0425, val_acc: 0.9778\n",
            "Epoch [64], train_loss: 0.0796, val_loss: 0.0463, val_acc: 0.9778\n",
            "Epoch [65], train_loss: 0.1329, val_loss: 0.1437, val_acc: 0.9111\n",
            "Epoch [66], train_loss: 0.0762, val_loss: 0.0505, val_acc: 1.0000\n",
            "Epoch [67], train_loss: 0.0856, val_loss: 0.0383, val_acc: 0.9778\n",
            "Epoch [68], train_loss: 0.1620, val_loss: 0.0692, val_acc: 0.9556\n",
            "Epoch [69], train_loss: 0.1238, val_loss: 0.1372, val_acc: 0.9111\n",
            "Epoch [70], train_loss: 0.0760, val_loss: 0.0494, val_acc: 1.0000\n",
            "Epoch [71], train_loss: 0.0891, val_loss: 0.0483, val_acc: 0.9778\n",
            "Epoch [72], train_loss: 0.0693, val_loss: 0.0303, val_acc: 1.0000\n",
            "Epoch [73], train_loss: 0.0770, val_loss: 0.0302, val_acc: 1.0000\n",
            "Epoch [74], train_loss: 0.0742, val_loss: 0.0293, val_acc: 1.0000\n",
            "Epoch [75], train_loss: 0.0721, val_loss: 0.0308, val_acc: 1.0000\n",
            "Epoch [76], train_loss: 0.0864, val_loss: 0.0482, val_acc: 0.9778\n",
            "Epoch [77], train_loss: 0.0656, val_loss: 0.0286, val_acc: 1.0000\n",
            "Epoch [78], train_loss: 0.0790, val_loss: 0.0332, val_acc: 0.9778\n",
            "Epoch [79], train_loss: 0.0794, val_loss: 0.0311, val_acc: 0.9778\n",
            "Epoch [80], train_loss: 0.1361, val_loss: 0.1393, val_acc: 0.9111\n",
            "Epoch [81], train_loss: 0.0834, val_loss: 0.0340, val_acc: 1.0000\n",
            "Epoch [82], train_loss: 0.1249, val_loss: 0.1150, val_acc: 0.9111\n",
            "Epoch [83], train_loss: 0.0755, val_loss: 0.0392, val_acc: 1.0000\n",
            "Epoch [84], train_loss: 0.0807, val_loss: 0.0335, val_acc: 0.9778\n",
            "Epoch [85], train_loss: 0.0727, val_loss: 0.0220, val_acc: 1.0000\n",
            "Epoch [86], train_loss: 0.0856, val_loss: 0.0410, val_acc: 0.9778\n",
            "Epoch [87], train_loss: 0.0706, val_loss: 0.0255, val_acc: 1.0000\n",
            "Epoch [88], train_loss: 0.1168, val_loss: 0.1069, val_acc: 0.9333\n",
            "Epoch [89], train_loss: 0.0695, val_loss: 0.0383, val_acc: 1.0000\n",
            "Epoch [90], train_loss: 0.0789, val_loss: 0.0290, val_acc: 1.0000\n",
            "Epoch [91], train_loss: 0.0874, val_loss: 0.0498, val_acc: 0.9778\n",
            "Epoch [92], train_loss: 0.1382, val_loss: 0.1203, val_acc: 0.9111\n",
            "Epoch [93], train_loss: 0.0770, val_loss: 0.0511, val_acc: 1.0000\n",
            "Epoch [94], train_loss: 0.0805, val_loss: 0.0450, val_acc: 0.9778\n",
            "Epoch [95], train_loss: 0.0731, val_loss: 0.0361, val_acc: 0.9778\n",
            "Epoch [96], train_loss: 0.0719, val_loss: 0.0256, val_acc: 1.0000\n",
            "Epoch [97], train_loss: 0.0718, val_loss: 0.0229, val_acc: 1.0000\n",
            "Epoch [98], train_loss: 0.0884, val_loss: 0.0417, val_acc: 0.9778\n",
            "Epoch [99], train_loss: 0.0652, val_loss: 0.0283, val_acc: 1.0000\n"
          ],
          "name": "stdout"
        }
      ]
    },
    {
      "cell_type": "code",
      "metadata": {
        "id": "sEIc7k5SQlrb",
        "colab": {
          "base_uri": "https://localhost:8080/",
          "height": 295
        },
        "outputId": "b2280219-8c12-4547-a486-c23909a0eb7b"
      },
      "source": [
        "def plot_losses(history):\n",
        "    train_losses = [x.get('train_loss') for x in history]\n",
        "    val_losses = [x['val_loss'] for x in history]\n",
        "    plt.plot(train_losses, '-bx')\n",
        "    plt.plot(val_losses, '-rx')\n",
        "    plt.xlabel('epoch')\n",
        "    plt.ylabel('loss')\n",
        "    plt.legend(['Training', 'Validation'])\n",
        "    plt.title('Loss vs. No. of epochs');\n",
        "    \n",
        "plot_losses(history)"
      ],
      "execution_count": 90,
      "outputs": [
        {
          "output_type": "display_data",
          "data": {
            "image/png": "[encoded data removed]",
            "text/plain": [
              "<Figure size 432x288 with 1 Axes>"
            ]
          },
          "metadata": {
            "tags": [],
            "needs_background": "light"
          }
        }
      ]
    },
    {
      "cell_type": "code",
      "metadata": {
        "id": "xEFRzLGdQsmg",
        "colab": {
          "base_uri": "https://localhost:8080/",
          "height": 295
        },
        "outputId": "4e737d84-d8fd-4611-d1a8-3a2a37bd3cf7"
      },
      "source": [
        "accuracies = [x['val_acc'] for x in history]\n",
        "plt.plot(accuracies, '-x')\n",
        "plt.xlabel('epoch')\n",
        "plt.ylabel('accuracy')\n",
        "plt.title('Accuracy vs. No. of epochs');"
      ],
      "execution_count": 91,
      "outputs": [
        {
          "output_type": "display_data",
          "data": {
            "image/png": "[encoded data removed]",
            "text/plain": [
              "<Figure size 432x288 with 1 Axes>"
            ]
          },
          "metadata": {
            "tags": [],
            "needs_background": "light"
          }
        }
      ]
    },
    {
      "cell_type": "code",
      "metadata": {
        "colab": {
          "base_uri": "https://localhost:8080/"
        },
        "id": "EYnaZsJbgBsD",
        "outputId": "7e27375c-b8fc-4e28-fc07-8bfc2f9adab8"
      },
      "source": [
        "test_loader = DeviceDataLoader(DataLoader(test_dataset, batch_size=10), device)\n",
        "result = evaluate(model, test_loader)\n",
        "result"
      ],
      "execution_count": 92,
      "outputs": [
        {
          "output_type": "execute_result",
          "data": {
            "text/plain": [
              "{'val_acc': 1.0, 'val_loss': 0.02913481555879116}"
            ]
          },
          "metadata": {
            "tags": []
          },
          "execution_count": 92
        }
      ]
    },
    {
      "cell_type": "code",
      "metadata": {
        "id": "UuKTDNS9giCh"
      },
      "source": [
        "torch.save(model.state_dict(), 'BN_DNN_Iris.pth')"
      ],
      "execution_count": 93,
      "outputs": []
    },
    {
      "cell_type": "code",
      "metadata": {
        "colab": {
          "base_uri": "https://localhost:8080/",
          "height": 639
        },
        "id": "BPgA0mcFgpA8",
        "outputId": "015d6da8-3b60-40d3-815e-3ef8369ea1fc"
      },
      "source": [
        "from sklearn.metrics import roc_curve, auc\n",
        "from sklearn.preprocessing import OneHotEncoder\n",
        "\n",
        "plt.figure(figsize=(10, 10))\n",
        "plt.plot([0, 1], [0, 1], 'k--')\n",
        "\n",
        "# One hot encoding\n",
        "enc = OneHotEncoder()\n",
        "Y_onehot = enc.fit_transform(y_test[:, np.newaxis]).toarray()\n",
        "\n",
        "filename = \"/content/BN_DNN_Iris.pth\" \n",
        "model.load_state_dict(torch.load(filename, map_location=device))\n",
        "print('>loaded %s' % filename)\n",
        "model.to(device)\n",
        "model.eval()\n",
        "#to_device(model, device)\n",
        "\n",
        "with torch.no_grad():\n",
        "    y_pred = model(to_device(torch.FloatTensor(x_test), device))\n",
        "    y_pred = y_pred.cpu().detach().numpy()\n",
        "    fpr, tpr, threshold = roc_curve(Y_onehot.ravel(), y_pred.ravel())\n",
        "    \n",
        "plt.plot(fpr, tpr, label='AUC = {:.3f}'.format(auc(fpr, tpr)))\n",
        "plt.xlabel('False positive rate')\n",
        "plt.ylabel('True positive rate')\n",
        "plt.title('ROC curve')\n",
        "plt.legend();"
      ],
      "execution_count": 94,
      "outputs": [
        {
          "output_type": "stream",
          "text": [
            ">loaded /content/BN_DNN_Iris.pth\n"
          ],
          "name": "stdout"
        },
        {
          "output_type": "display_data",
          "data": {
            "image/png": "[encoded data removed]",
            "text/plain": [
              "<Figure size 720x720 with 1 Axes>"
            ]
          },
          "metadata": {
            "tags": [],
            "needs_background": "light"
          }
        }
      ]
    },
    {
      "cell_type": "code",
      "metadata": {
        "id": "QJUutY9cjtu-"
      },
      "source": [
        "from torch.autograd import Variable\n",
        "# Prediction\n",
        "my_test = Variable(torch.from_numpy(x_test)).float()\n",
        "model.to(device)\n",
        "pred = model(to_device(my_test, device))"
      ],
      "execution_count": 102,
      "outputs": []
    },
    {
      "cell_type": "code",
      "metadata": {
        "colab": {
          "base_uri": "https://localhost:8080/"
        },
        "id": "I4VgHnRWniAj",
        "outputId": "b3f56dc4-cd9a-48ef-be19-d8bdf4e9880d"
      },
      "source": [
        "pred = pred.cpu().detach().numpy()\n",
        "pred"
      ],
      "execution_count": 103,
      "outputs": [
        {
          "output_type": "execute_result",
          "data": {
            "text/plain": [
              "array([[ 2.56255531e+01, -1.06530514e+01, -4.94905891e+01],\n",
              "       [-9.21281052e+00,  9.20844841e+00, -1.40817547e+01],\n",
              "       [-1.50772648e+01,  1.19055042e+01, -9.74371624e+00],\n",
              "       [ 2.29639015e+01, -9.50541306e+00, -4.45524864e+01],\n",
              "       [-8.66318703e+00,  2.02840477e-01,  2.16171765e+00],\n",
              "       [-9.02149773e+00,  6.84017849e+00, -5.25841618e+00],\n",
              "       [-7.78967237e+00,  1.66109711e-01,  1.91997528e+00],\n",
              "       [ 1.66711502e+01, -5.72981787e+00, -3.63169136e+01],\n",
              "       [ 1.61495323e+01, -5.50980091e+00, -3.52631874e+01],\n",
              "       [-1.52244558e+01, -1.34114288e-02,  3.87620997e+00],\n",
              "       [-8.33873558e+00,  6.34046984e+00, -4.93025351e+00],\n",
              "       [ 1.97340164e+01, -7.43721342e+00, -4.07586021e+01],\n",
              "       [-1.47588806e+01,  3.70845571e-03,  3.74752426e+00],\n",
              "       [-1.24718981e+01,  9.70177650e+00, -7.66959143e+00],\n",
              "       [-7.55785275e+00,  5.64764643e+00, -4.30682135e+00],\n",
              "       [ 1.79070568e+01, -6.94614458e+00, -3.62826576e+01],\n",
              "       [-1.28113804e+01,  1.00560713e+01, -8.16532230e+00],\n",
              "       [-4.65632439e+00,  2.87307787e+00, -1.96867418e+00],\n",
              "       [ 1.87080212e+01, -6.58775234e+00, -4.02028351e+01],\n",
              "       [ 1.97954407e+01, -7.49392414e+00, -4.07221031e+01],\n",
              "       [-5.61728716e+00,  4.01202393e+00, -2.97312379e+00],\n",
              "       [-3.74706221e+00,  7.01606452e-01,  2.76009798e-01],\n",
              "       [-6.34153128e+00,  4.33646536e+00, -3.10932708e+00],\n",
              "       [ 2.04074249e+01, -8.09013939e+00, -4.07777748e+01],\n",
              "       [-1.03434515e+01,  1.12694472e-01,  2.57726789e+00],\n",
              "       [-1.09358826e+01,  8.48399258e+00, -6.70997095e+00],\n",
              "       [ 2.45415649e+01, -1.03648481e+01, -4.68482208e+01],\n",
              "       [ 2.05803909e+01, -8.19883537e+00, -4.09861832e+01],\n",
              "       [-8.15713787e+00,  6.13466358e+00, -4.71472597e+00],\n",
              "       [-1.00950851e+01,  5.91251589e-02,  2.50569201e+00],\n",
              "       [-8.53821373e+00,  6.45558834e+00, -4.97030449e+00],\n",
              "       [-1.43684893e+01,  3.62757184e-02,  3.64647079e+00],\n",
              "       [-1.25986233e+01,  9.90104771e+00, -8.07503891e+00],\n",
              "       [-1.72631493e+01, -7.76340067e-02,  4.41906548e+00],\n",
              "       [-1.77021770e+01, -1.06614858e-01,  4.54417562e+00],\n",
              "       [ 2.08067627e+01, -8.02802372e+00, -4.22849236e+01],\n",
              "       [-8.06384754e+00,  6.12868595e+00, -4.77929831e+00],\n",
              "       [ 1.97322140e+01, -7.32591629e+00, -4.10731163e+01],\n",
              "       [-1.03896246e+01,  7.95113277e+00, -6.18191957e+00],\n",
              "       [-1.47942181e+01, -1.35096572e-02,  3.75369906e+00],\n",
              "       [-1.24204617e+01,  3.81651856e-02,  3.12607121e+00],\n",
              "       [ 1.98432846e+01, -7.62637138e+00, -4.04590683e+01],\n",
              "       [-8.96666145e+00,  7.32407272e-02,  2.20080781e+00],\n",
              "       [-1.42694349e+01, -1.60259269e-02,  3.61326742e+00],\n",
              "       [-1.33947515e+01,  1.04189014e+01, -8.27220249e+00]], dtype=float32)"
            ]
          },
          "metadata": {
            "tags": []
          },
          "execution_count": 103
        }
      ]
    },
    {
      "cell_type": "code",
      "metadata": {
        "colab": {
          "base_uri": "https://localhost:8080/"
        },
        "id": "qAxnLhFYn1LO",
        "outputId": "93b09541-1817-4d3e-9377-570fb608b3f4"
      },
      "source": [
        "from sklearn.metrics import accuracy_score\n",
        "print (\"The accuracy is\", accuracy_score(y_test, np.argmax(pred, axis=1)))"
      ],
      "execution_count": 106,
      "outputs": [
        {
          "output_type": "stream",
          "text": [
            "The accuracy is 1.0\n"
          ],
          "name": "stdout"
        }
      ]
    },
    {
      "cell_type": "code",
      "metadata": {
        "colab": {
          "base_uri": "https://localhost:8080/"
        },
        "id": "JScu4j49rR28",
        "outputId": "02445788-a8dc-4651-c6ea-3856ff81437a"
      },
      "source": [
        "test_loader = DeviceDataLoader(DataLoader(MyDataset(x_test,y_test), batch_size=1), device)\n",
        "to_device(model, device)\n",
        "result = evaluate(model, test_loader)\n",
        "result"
      ],
      "execution_count": 171,
      "outputs": [
        {
          "output_type": "execute_result",
          "data": {
            "text/plain": [
              "{'val_acc': 1.0, 'val_loss': 0.028297817334532738}"
            ]
          },
          "metadata": {
            "tags": []
          },
          "execution_count": 171
        }
      ]
    },
    {
      "cell_type": "code",
      "metadata": {
        "colab": {
          "base_uri": "https://localhost:8080/"
        },
        "id": "PwFMiCF6sIB9",
        "outputId": "495fb408-a0b8-4753-de4c-fc5cfc8fc004"
      },
      "source": [
        "# Checking for a single instance / predicted class label\n",
        "test0 = Variable(torch.from_numpy(x_test[40])).float()\n",
        "to_device(model, 'cpu')\n",
        "test0 = test0.reshape(1,-1)\n",
        "pred0 = model(test0)\n",
        "pred0 = pred0.detach().numpy()\n",
        "pred1 = np.argmax(pred0, axis=1)\n",
        "pred1[0]"
      ],
      "execution_count": 193,
      "outputs": [
        {
          "output_type": "execute_result",
          "data": {
            "text/plain": [
              "2"
            ]
          },
          "metadata": {
            "tags": []
          },
          "execution_count": 193
        }
      ]
    },
    {
      "cell_type": "code",
      "metadata": {
        "colab": {
          "base_uri": "https://localhost:8080/"
        },
        "id": "opAIi5XywncJ",
        "outputId": "08099083-98d8-4b0c-ef85-eb996212fa57"
      },
      "source": [
        "# Actual class label\n",
        "y_test[40]"
      ],
      "execution_count": 192,
      "outputs": [
        {
          "output_type": "execute_result",
          "data": {
            "text/plain": [
              "2"
            ]
          },
          "metadata": {
            "tags": []
          },
          "execution_count": 192
        }
      ]
    }
  ]
}